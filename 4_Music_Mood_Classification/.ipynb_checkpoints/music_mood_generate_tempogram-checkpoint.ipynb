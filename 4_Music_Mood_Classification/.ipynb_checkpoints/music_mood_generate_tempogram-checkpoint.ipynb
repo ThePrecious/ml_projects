{
 "cells": [
  {
   "cell_type": "code",
   "execution_count": null,
   "metadata": {},
   "outputs": [],
   "source": [
    "This notebook retrives information (like beats, tempo) about the music using librosa"
   ]
  },
  {
   "cell_type": "code",
   "execution_count": 3,
   "metadata": {},
   "outputs": [],
   "source": [
    "import os\n",
    "import subprocess\n",
    "import pandas as pd\n",
    "import glob\n",
    "\n",
    "import numpy, scipy, matplotlib.pyplot as plt, IPython.display as ipd\n",
    "import librosa, librosa.display\n",
    "from ipywidgets import interact\n"
   ]
  },
  {
   "cell_type": "code",
   "execution_count": 4,
   "metadata": {},
   "outputs": [
    {
     "name": "stdout",
     "output_type": "stream",
     "text": [
      "/Users/Amulya/workspace/Fastai/MusicMoodClassification\r\n"
     ]
    }
   ],
   "source": [
    "!pwd"
   ]
  },
  {
   "cell_type": "code",
   "execution_count": 5,
   "metadata": {},
   "outputs": [],
   "source": [
    "audio_info_df = pd.read_csv('ten_sec_audio_analysis_df.csv', index_col = 0)"
   ]
  },
  {
   "cell_type": "code",
   "execution_count": 6,
   "metadata": {},
   "outputs": [
    {
     "data": {
      "text/html": [
       "<div>\n",
       "<style scoped>\n",
       "    .dataframe tbody tr th:only-of-type {\n",
       "        vertical-align: middle;\n",
       "    }\n",
       "\n",
       "    .dataframe tbody tr th {\n",
       "        vertical-align: top;\n",
       "    }\n",
       "\n",
       "    .dataframe thead th {\n",
       "        text-align: right;\n",
       "    }\n",
       "</style>\n",
       "<table border=\"1\" class=\"dataframe\">\n",
       "  <thead>\n",
       "    <tr style=\"text-align: right;\">\n",
       "      <th></th>\n",
       "      <th>yid</th>\n",
       "      <th>size</th>\n",
       "      <th>rate</th>\n",
       "    </tr>\n",
       "  </thead>\n",
       "  <tbody>\n",
       "    <tr>\n",
       "      <th>0</th>\n",
       "      <td>CgCBHTl1BB0.wav</td>\n",
       "      <td>220500</td>\n",
       "      <td>22050</td>\n",
       "    </tr>\n",
       "    <tr>\n",
       "      <th>1</th>\n",
       "      <td>2m4U-85oCF4.wav</td>\n",
       "      <td>220500</td>\n",
       "      <td>22050</td>\n",
       "    </tr>\n",
       "    <tr>\n",
       "      <th>2</th>\n",
       "      <td>-fA_oNSeikM.wav</td>\n",
       "      <td>220500</td>\n",
       "      <td>22050</td>\n",
       "    </tr>\n",
       "    <tr>\n",
       "      <th>3</th>\n",
       "      <td>cmad0TBd_KE.wav</td>\n",
       "      <td>220500</td>\n",
       "      <td>22050</td>\n",
       "    </tr>\n",
       "    <tr>\n",
       "      <th>4</th>\n",
       "      <td>5cxG7j3q2F4.wav</td>\n",
       "      <td>220500</td>\n",
       "      <td>22050</td>\n",
       "    </tr>\n",
       "  </tbody>\n",
       "</table>\n",
       "</div>"
      ],
      "text/plain": [
       "               yid    size   rate\n",
       "0  CgCBHTl1BB0.wav  220500  22050\n",
       "1  2m4U-85oCF4.wav  220500  22050\n",
       "2  -fA_oNSeikM.wav  220500  22050\n",
       "3  cmad0TBd_KE.wav  220500  22050\n",
       "4  5cxG7j3q2F4.wav  220500  22050"
      ]
     },
     "execution_count": 6,
     "metadata": {},
     "output_type": "execute_result"
    }
   ],
   "source": [
    "audio_info_df.head()"
   ]
  },
  {
   "cell_type": "code",
   "execution_count": 7,
   "metadata": {},
   "outputs": [],
   "source": [
    "# Append a column YTID thats just the youtube id. yid without .wav\n",
    "audio_info_df['YTID'] = audio_info_df['yid'].apply(lambda x: str(x).split('.')[0])"
   ]
  },
  {
   "cell_type": "code",
   "execution_count": 48,
   "metadata": {},
   "outputs": [],
   "source": [
    "#audio_info_df = audio_info_df.append({'YTID':(audio_info_df['yid'].iloc[1])[:-4]}, ignore_index=True) # wrong\n",
    "#(audio_info_df['yid'].iloc[0])[:-4] # 'CgCBHTl1BB0'\n",
    "#for i in len(audio_info_df):\n",
    "#audio_info_df = audio_info_df.append({'YTID': audio_info_df.yid.iloc[i][:-4]}, ignore_index=True)"
   ]
  },
  {
   "cell_type": "code",
   "execution_count": 8,
   "metadata": {},
   "outputs": [
    {
     "data": {
      "text/html": [
       "<div>\n",
       "<style scoped>\n",
       "    .dataframe tbody tr th:only-of-type {\n",
       "        vertical-align: middle;\n",
       "    }\n",
       "\n",
       "    .dataframe tbody tr th {\n",
       "        vertical-align: top;\n",
       "    }\n",
       "\n",
       "    .dataframe thead th {\n",
       "        text-align: right;\n",
       "    }\n",
       "</style>\n",
       "<table border=\"1\" class=\"dataframe\">\n",
       "  <thead>\n",
       "    <tr style=\"text-align: right;\">\n",
       "      <th></th>\n",
       "      <th>yid</th>\n",
       "      <th>size</th>\n",
       "      <th>rate</th>\n",
       "      <th>YTID</th>\n",
       "    </tr>\n",
       "  </thead>\n",
       "  <tbody>\n",
       "    <tr>\n",
       "      <th>0</th>\n",
       "      <td>CgCBHTl1BB0.wav</td>\n",
       "      <td>220500</td>\n",
       "      <td>22050</td>\n",
       "      <td>CgCBHTl1BB0</td>\n",
       "    </tr>\n",
       "    <tr>\n",
       "      <th>1</th>\n",
       "      <td>2m4U-85oCF4.wav</td>\n",
       "      <td>220500</td>\n",
       "      <td>22050</td>\n",
       "      <td>2m4U-85oCF4</td>\n",
       "    </tr>\n",
       "    <tr>\n",
       "      <th>2</th>\n",
       "      <td>-fA_oNSeikM.wav</td>\n",
       "      <td>220500</td>\n",
       "      <td>22050</td>\n",
       "      <td>-fA_oNSeikM</td>\n",
       "    </tr>\n",
       "    <tr>\n",
       "      <th>3</th>\n",
       "      <td>cmad0TBd_KE.wav</td>\n",
       "      <td>220500</td>\n",
       "      <td>22050</td>\n",
       "      <td>cmad0TBd_KE</td>\n",
       "    </tr>\n",
       "    <tr>\n",
       "      <th>4</th>\n",
       "      <td>5cxG7j3q2F4.wav</td>\n",
       "      <td>220500</td>\n",
       "      <td>22050</td>\n",
       "      <td>5cxG7j3q2F4</td>\n",
       "    </tr>\n",
       "  </tbody>\n",
       "</table>\n",
       "</div>"
      ],
      "text/plain": [
       "               yid    size   rate         YTID\n",
       "0  CgCBHTl1BB0.wav  220500  22050  CgCBHTl1BB0\n",
       "1  2m4U-85oCF4.wav  220500  22050  2m4U-85oCF4\n",
       "2  -fA_oNSeikM.wav  220500  22050  -fA_oNSeikM\n",
       "3  cmad0TBd_KE.wav  220500  22050  cmad0TBd_KE\n",
       "4  5cxG7j3q2F4.wav  220500  22050  5cxG7j3q2F4"
      ]
     },
     "execution_count": 8,
     "metadata": {},
     "output_type": "execute_result"
    }
   ],
   "source": [
    "audio_info_df.head(5)"
   ]
  },
  {
   "cell_type": "code",
   "execution_count": 66,
   "metadata": {},
   "outputs": [
    {
     "data": {
      "text/plain": [
       "False"
      ]
     },
     "execution_count": 66,
     "metadata": {},
     "output_type": "execute_result"
    }
   ],
   "source": [
    "#Check if any value of yid is not string\n",
    "x = audio_info_df['yid']\n",
    "x[x.apply(type) != str].any()"
   ]
  },
  {
   "cell_type": "code",
   "execution_count": 7,
   "metadata": {},
   "outputs": [
    {
     "name": "stdout",
     "output_type": "stream",
     "text": [
      "40584\n"
     ]
    },
    {
     "data": {
      "text/plain": [
       "(10146, 4)"
      ]
     },
     "execution_count": 7,
     "metadata": {},
     "output_type": "execute_result"
    }
   ],
   "source": [
    "print(audio_info_df.size)\n",
    "audio_info_df.shape"
   ]
  },
  {
   "cell_type": "markdown",
   "metadata": {},
   "source": [
    "## Lets try to combine clips_metadata.csv and audio_info_df.csv cos we need one df that has both file name and ytid and music_class information\n",
    "\n",
    "\n",
    "clips_metadata has clips shorter than 10 seconds. audio_info_df has only 10s clips. The difference is 300something. So while joining, join based on audio_info_df"
   ]
  },
  {
   "cell_type": "code",
   "execution_count": 9,
   "metadata": {},
   "outputs": [],
   "source": [
    "## Lets try to combine clips_metadata.csv and audio_info_df.csv\n",
    "clips_metadata_df = pd.read_csv('clips_metadata', sep =' ')"
   ]
  },
  {
   "cell_type": "code",
   "execution_count": 10,
   "metadata": {},
   "outputs": [],
   "source": [
    "clips_metadata_df = clips_metadata_df.drop(columns=['start_seconds','end_seconds','positive_labels','type'])"
   ]
  },
  {
   "cell_type": "code",
   "execution_count": 11,
   "metadata": {},
   "outputs": [
    {
     "data": {
      "text/html": [
       "<div>\n",
       "<style scoped>\n",
       "    .dataframe tbody tr th:only-of-type {\n",
       "        vertical-align: middle;\n",
       "    }\n",
       "\n",
       "    .dataframe tbody tr th {\n",
       "        vertical-align: top;\n",
       "    }\n",
       "\n",
       "    .dataframe thead th {\n",
       "        text-align: right;\n",
       "    }\n",
       "</style>\n",
       "<table border=\"1\" class=\"dataframe\">\n",
       "  <thead>\n",
       "    <tr style=\"text-align: right;\">\n",
       "      <th></th>\n",
       "      <th>YTID</th>\n",
       "      <th>Happy</th>\n",
       "      <th>Funny</th>\n",
       "      <th>Sad</th>\n",
       "      <th>Tender</th>\n",
       "      <th>Angry</th>\n",
       "      <th>Scary</th>\n",
       "    </tr>\n",
       "  </thead>\n",
       "  <tbody>\n",
       "    <tr>\n",
       "      <th>0</th>\n",
       "      <td>--3flh9REUI</td>\n",
       "      <td>0</td>\n",
       "      <td>0</td>\n",
       "      <td>0</td>\n",
       "      <td>1</td>\n",
       "      <td>0</td>\n",
       "      <td>0</td>\n",
       "    </tr>\n",
       "    <tr>\n",
       "      <th>1</th>\n",
       "      <td>--CZ-8vrQ1g</td>\n",
       "      <td>1</td>\n",
       "      <td>0</td>\n",
       "      <td>0</td>\n",
       "      <td>0</td>\n",
       "      <td>0</td>\n",
       "      <td>0</td>\n",
       "    </tr>\n",
       "    <tr>\n",
       "      <th>2</th>\n",
       "      <td>--K3100xfu8</td>\n",
       "      <td>0</td>\n",
       "      <td>0</td>\n",
       "      <td>1</td>\n",
       "      <td>0</td>\n",
       "      <td>0</td>\n",
       "      <td>0</td>\n",
       "    </tr>\n",
       "    <tr>\n",
       "      <th>3</th>\n",
       "      <td>--WKv2SmvO8</td>\n",
       "      <td>0</td>\n",
       "      <td>0</td>\n",
       "      <td>0</td>\n",
       "      <td>0</td>\n",
       "      <td>0</td>\n",
       "      <td>1</td>\n",
       "    </tr>\n",
       "    <tr>\n",
       "      <th>4</th>\n",
       "      <td>--ip67RoGwo</td>\n",
       "      <td>0</td>\n",
       "      <td>0</td>\n",
       "      <td>1</td>\n",
       "      <td>0</td>\n",
       "      <td>0</td>\n",
       "      <td>0</td>\n",
       "    </tr>\n",
       "  </tbody>\n",
       "</table>\n",
       "</div>"
      ],
      "text/plain": [
       "          YTID  Happy  Funny  Sad  Tender  Angry  Scary\n",
       "0  --3flh9REUI      0      0    0       1      0      0\n",
       "1  --CZ-8vrQ1g      1      0    0       0      0      0\n",
       "2  --K3100xfu8      0      0    1       0      0      0\n",
       "3  --WKv2SmvO8      0      0    0       0      0      1\n",
       "4  --ip67RoGwo      0      0    1       0      0      0"
      ]
     },
     "execution_count": 11,
     "metadata": {},
     "output_type": "execute_result"
    }
   ],
   "source": [
    "clips_metadata_df.head()"
   ]
  },
  {
   "cell_type": "code",
   "execution_count": 12,
   "metadata": {},
   "outputs": [
    {
     "name": "stdout",
     "output_type": "stream",
     "text": [
      "73143 (10449, 7)\n",
      "40584 (10146, 4)\n"
     ]
    }
   ],
   "source": [
    "print(clips_metadata_df.size, clips_metadata_df.shape)#73143, (10449, 7)\n",
    "print(audio_info_df.size, audio_info_df.shape)#30438, (10146, 3)"
   ]
  },
  {
   "cell_type": "code",
   "execution_count": 13,
   "metadata": {},
   "outputs": [
    {
     "data": {
      "text/html": [
       "<div>\n",
       "<style scoped>\n",
       "    .dataframe tbody tr th:only-of-type {\n",
       "        vertical-align: middle;\n",
       "    }\n",
       "\n",
       "    .dataframe tbody tr th {\n",
       "        vertical-align: top;\n",
       "    }\n",
       "\n",
       "    .dataframe thead th {\n",
       "        text-align: right;\n",
       "    }\n",
       "</style>\n",
       "<table border=\"1\" class=\"dataframe\">\n",
       "  <thead>\n",
       "    <tr style=\"text-align: right;\">\n",
       "      <th></th>\n",
       "      <th>yid</th>\n",
       "      <th>size</th>\n",
       "      <th>rate</th>\n",
       "      <th>YTID</th>\n",
       "      <th>Happy</th>\n",
       "      <th>Funny</th>\n",
       "      <th>Sad</th>\n",
       "      <th>Tender</th>\n",
       "      <th>Angry</th>\n",
       "      <th>Scary</th>\n",
       "    </tr>\n",
       "  </thead>\n",
       "  <tbody>\n",
       "    <tr>\n",
       "      <th>0</th>\n",
       "      <td>CgCBHTl1BB0.wav</td>\n",
       "      <td>220500</td>\n",
       "      <td>22050</td>\n",
       "      <td>CgCBHTl1BB0</td>\n",
       "      <td>1</td>\n",
       "      <td>0</td>\n",
       "      <td>0</td>\n",
       "      <td>0</td>\n",
       "      <td>0</td>\n",
       "      <td>0</td>\n",
       "    </tr>\n",
       "    <tr>\n",
       "      <th>1</th>\n",
       "      <td>2m4U-85oCF4.wav</td>\n",
       "      <td>220500</td>\n",
       "      <td>22050</td>\n",
       "      <td>2m4U-85oCF4</td>\n",
       "      <td>0</td>\n",
       "      <td>0</td>\n",
       "      <td>0</td>\n",
       "      <td>0</td>\n",
       "      <td>1</td>\n",
       "      <td>0</td>\n",
       "    </tr>\n",
       "    <tr>\n",
       "      <th>2</th>\n",
       "      <td>-fA_oNSeikM.wav</td>\n",
       "      <td>220500</td>\n",
       "      <td>22050</td>\n",
       "      <td>-fA_oNSeikM</td>\n",
       "      <td>0</td>\n",
       "      <td>0</td>\n",
       "      <td>0</td>\n",
       "      <td>1</td>\n",
       "      <td>0</td>\n",
       "      <td>0</td>\n",
       "    </tr>\n",
       "    <tr>\n",
       "      <th>3</th>\n",
       "      <td>cmad0TBd_KE.wav</td>\n",
       "      <td>220500</td>\n",
       "      <td>22050</td>\n",
       "      <td>cmad0TBd_KE</td>\n",
       "      <td>0</td>\n",
       "      <td>0</td>\n",
       "      <td>1</td>\n",
       "      <td>0</td>\n",
       "      <td>0</td>\n",
       "      <td>0</td>\n",
       "    </tr>\n",
       "    <tr>\n",
       "      <th>4</th>\n",
       "      <td>5cxG7j3q2F4.wav</td>\n",
       "      <td>220500</td>\n",
       "      <td>22050</td>\n",
       "      <td>5cxG7j3q2F4</td>\n",
       "      <td>0</td>\n",
       "      <td>0</td>\n",
       "      <td>0</td>\n",
       "      <td>1</td>\n",
       "      <td>0</td>\n",
       "      <td>0</td>\n",
       "    </tr>\n",
       "  </tbody>\n",
       "</table>\n",
       "</div>"
      ],
      "text/plain": [
       "               yid    size   rate         YTID  Happy  Funny  Sad  Tender  \\\n",
       "0  CgCBHTl1BB0.wav  220500  22050  CgCBHTl1BB0      1      0    0       0   \n",
       "1  2m4U-85oCF4.wav  220500  22050  2m4U-85oCF4      0      0    0       0   \n",
       "2  -fA_oNSeikM.wav  220500  22050  -fA_oNSeikM      0      0    0       1   \n",
       "3  cmad0TBd_KE.wav  220500  22050  cmad0TBd_KE      0      0    1       0   \n",
       "4  5cxG7j3q2F4.wav  220500  22050  5cxG7j3q2F4      0      0    0       1   \n",
       "\n",
       "   Angry  Scary  \n",
       "0      0      0  \n",
       "1      1      0  \n",
       "2      0      0  \n",
       "3      0      0  \n",
       "4      0      0  "
      ]
     },
     "execution_count": 13,
     "metadata": {},
     "output_type": "execute_result"
    }
   ],
   "source": [
    "#result = pd.merge(audio_info_df, clips_metadata_df, how = 'left', left_on = audio_info_df.yid[:-4] , right_on = 'YTID')\n",
    "\n",
    "audio_info_df = pd.merge(audio_info_df, clips_metadata_df, how='left', on=['YTID'])\n",
    "audio_info_df.head()"
   ]
  },
  {
   "cell_type": "code",
   "execution_count": 14,
   "metadata": {},
   "outputs": [
    {
     "data": {
      "text/plain": [
       "(10146, 10)"
      ]
     },
     "execution_count": 14,
     "metadata": {},
     "output_type": "execute_result"
    }
   ],
   "source": [
    "audio_info_df.shape"
   ]
  },
  {
   "cell_type": "markdown",
   "metadata": {},
   "source": [
    "## Retrieve Music Information"
   ]
  },
  {
   "cell_type": "code",
   "execution_count": null,
   "metadata": {},
   "outputs": [],
   "source": [
    "#tempo, beat_times = librosa.beat.beat_track(x, sr=ample_rate, start_bpm=30, units='time') # start_bpm = initial guess for the tempo estimator (in beats per minute)"
   ]
  },
  {
   "cell_type": "code",
   "execution_count": 15,
   "metadata": {},
   "outputs": [],
   "source": [
    "from pathlib import Path \n",
    "audio_path = Path('/Users/Amulya/workspace/Fastai/MusicMoodClassification/google_audioset/')"
   ]
  },
  {
   "cell_type": "code",
   "execution_count": 16,
   "metadata": {},
   "outputs": [],
   "source": [
    "tempogram_path = Path('/Users/Amulya/workspace/Fastai/MusicMoodClassification/tempogram/')\n",
    "tempogram = Path('/Users/Amulya/workspace/Fastai/MusicMoodClassification/tempogram/')\n",
    "if tempogram.exists()==False:\n",
    "    tempogram.mkdir()"
   ]
  },
  {
   "cell_type": "code",
   "execution_count": 75,
   "metadata": {},
   "outputs": [],
   "source": [
    "#TESTING\n",
    "tempogram_test_path = Path('/Users/Amulya/workspace/Fastai/MusicMoodClassification/tempogram_test/')\n",
    "tempogram_test = Path('/Users/Amulya/workspace/Fastai/MusicMoodClassification/tempogram_test/')\n",
    "if tempogram_test.exists()==False:\n",
    "    tempogram_test.mkdir()"
   ]
  },
  {
   "cell_type": "code",
   "execution_count": 53,
   "metadata": {},
   "outputs": [],
   "source": [
    "def tempogram(audio_file_name):\n",
    "    fpath = Path(str(audio_path) + '/' + audio_file_name)\n",
    "    samples, sample_rate = librosa.load(fpath)\n",
    "    fig = plt.figure(figsize=[0.92,0.92])\n",
    "    ax = fig.add_subplot(111)\n",
    "    \n",
    "    onset_env = librosa.onset.onset_strength(samples, sr=sample_rate, hop_length=200, n_fft=2048)\n",
    "    tempogram = librosa.feature.tempogram(onset_envelope=onset_env, sr=sample_rate, hop_length=200, win_length=400)\n",
    "    librosa.display.specshow(tempogram, sr=sample_rate, hop_length=200, x_axis='time', y_axis='tempo')\n",
    "    \n",
    "    ax.axes.get_xaxis().set_visible(False)\n",
    "    ax.axes.get_yaxis().set_visible(False)\n",
    "    ax.set_frame_on(False)\n",
    "\n",
    "    fname = audio_file_name.replace('.wav','.png')\n",
    "    \n",
    "    filename  = Path(str(tempogram_path) + '/' + fname)\n",
    "    plt.savefig(filename, format=\"png\", dpi=400, bbox_inches='tight', pad_inches=0)\n",
    "    plt.close('all')"
   ]
  },
  {
   "cell_type": "code",
   "execution_count": 58,
   "metadata": {},
   "outputs": [
    {
     "data": {
      "text/plain": [
       "8666"
      ]
     },
     "execution_count": 58,
     "metadata": {},
     "output_type": "execute_result"
    }
   ],
   "source": [
    "processed_files = [f.split('.png')[0] + \".wav\"  for f in os.listdir('tempogram/')]\n",
    "len(processed_files)"
   ]
  },
  {
   "cell_type": "code",
   "execution_count": 59,
   "metadata": {},
   "outputs": [
    {
     "data": {
      "text/plain": [
       "1481"
      ]
     },
     "execution_count": 59,
     "metadata": {},
     "output_type": "execute_result"
    }
   ],
   "source": [
    "to_process = []\n",
    "all_files = list(audio_info_df['yid'].values)\n",
    "for f in  all_files :\n",
    "    if f not in processed_files:\n",
    "        to_process.append(f)\n",
    "\n",
    "len(to_process)"
   ]
  },
  {
   "cell_type": "code",
   "execution_count": 60,
   "metadata": {},
   "outputs": [],
   "source": [
    "# TESTING\n",
    "##for i in range (0,2):\n",
    "##    tempogram(audio_info_df['yid'].values[i])\n",
    "##    i=i+1"
   ]
  },
  {
   "cell_type": "code",
   "execution_count": 61,
   "metadata": {},
   "outputs": [
    {
     "name": "stderr",
     "output_type": "stream",
     "text": [
      "/Users/Amulya/.local/lib/python3.6/site-packages/scipy/fftpack/basic.py:160: FutureWarning: Using a non-tuple sequence for multidimensional indexing is deprecated; use `arr[tuple(seq)]` instead of `arr[seq]`. In the future this will be interpreted as an array index, `arr[np.array(seq)]`, which will result either in an error or a different result.\n",
      "  z[index] = x\n",
      "/Users/Amulya/.local/lib/python3.6/site-packages/scipy/fftpack/basic.py:160: FutureWarning: Using a non-tuple sequence for multidimensional indexing is deprecated; use `arr[tuple(seq)]` instead of `arr[seq]`. In the future this will be interpreted as an array index, `arr[np.array(seq)]`, which will result either in an error or a different result.\n",
      "  z[index] = x\n"
     ]
    }
   ],
   "source": [
    "import multiprocessing as mp\n",
    "import numpy as np\n",
    "\n",
    "mp.cpu_count()\n",
    "with mp.Pool(2) as pool:\n",
    "    pool.map(tempogram, to_process[:2000])\n",
    "    #pool.map(tempogram, audio_info_df['yid'].values)"
   ]
  },
  {
   "cell_type": "code",
   "execution_count": null,
   "metadata": {},
   "outputs": [],
   "source": []
  },
  {
   "cell_type": "code",
   "execution_count": null,
   "metadata": {},
   "outputs": [],
   "source": []
  },
  {
   "cell_type": "code",
   "execution_count": null,
   "metadata": {},
   "outputs": [],
   "source": []
  },
  {
   "cell_type": "code",
   "execution_count": null,
   "metadata": {},
   "outputs": [],
   "source": []
  },
  {
   "cell_type": "code",
   "execution_count": 83,
   "metadata": {},
   "outputs": [],
   "source": [
    "def get_tempo_beat_times(audio_file_name):\n",
    "    fpath = Path(str(audio_path) + '/' + audio_file_name+'.wav')\n",
    "    samples, sample_rate = librosa.load(fpath)\n",
    "    tempo, beat_times = librosa.beat.beat_track(samples, sr=sample_rate, units='time')\n",
    "    mean_beat_times = np.ediff1d(beat_times).mean()\n",
    "    audio_info_df = audio_info_df.append({'tempo':tempo, 'mean_beat_times':mean_beat_times},ignore_index=True)\n",
    "    \n",
    "    \n",
    "    \n",
    "    #return tempo, beat_times\n",
    "    "
   ]
  },
  {
   "cell_type": "code",
   "execution_count": null,
   "metadata": {},
   "outputs": [],
   "source": [
    "# did not complete yet\n",
    "#for i in range (0,5):\n",
    "    #tempo, beat_times = get_tempo_beat_times(audio_info_df['yid'].values[i])\n",
    "    #i=i+1"
   ]
  },
  {
   "cell_type": "code",
   "execution_count": null,
   "metadata": {},
   "outputs": [],
   "source": []
  }
 ],
 "metadata": {
  "kernelspec": {
   "display_name": "Python 3",
   "language": "python",
   "name": "python3"
  },
  "language_info": {
   "codemirror_mode": {
    "name": "ipython",
    "version": 3
   },
   "file_extension": ".py",
   "mimetype": "text/x-python",
   "name": "python",
   "nbconvert_exporter": "python",
   "pygments_lexer": "ipython3",
   "version": "3.6.5"
  }
 },
 "nbformat": 4,
 "nbformat_minor": 2
}
