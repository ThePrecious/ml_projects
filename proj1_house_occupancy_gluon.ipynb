{
 "cells": [
  {
   "cell_type": "markdown",
   "metadata": {
    "collapsed": true
   },
   "source": [
    "# Multivariate Timeseries Data Modeling to predict room occupancy with Gluon\n",
    "\n",
    "@author: Amulya Badal\n",
    "\n",
    "In this notebook I attempt my first neural network with Gluon to model timeseries data"
   ]
  },
  {
   "cell_type": "markdown",
   "metadata": {},
   "source": [
    "## DATASET\n",
    "Occupancy Detection Dataset\n",
    "This dataset describes measurements of a room and the objective is to predict whether or not the room is occupied.\n",
    "\n",
    "There are 20,560 one-minute observations taken over the period of a few weeks. This is a classification prediction problem. There are 7 attributes including various light and climate properties of the room.\n",
    "\n",
    "The source for the data is credited to Luis Candanedo from UMONS.\n",
    "\n",
    "Below is a sample of the first 5 rows of data including the header row.\n",
    "\n",
    "```\n",
    "\n",
    "\"date\",\"Temperature\",\"Humidity\",\"Light\",\"CO2\",\"HumidityRatio\",\"Occupancy\"\n",
    "\"1\",\"2015-02-04 17:51:00\",23.18,27.272,426,721.25,0.00479298817650529,1\n",
    "\"2\",\"2015-02-04 17:51:59\",23.15,27.2675,429.5,714,0.00478344094931065,1\n",
    "\"3\",\"2015-02-04 17:53:00\",23.15,27.245,426,713.5,0.00477946352442199,1\n",
    "\"4\",\"2015-02-04 17:54:00\",23.15,27.2,426,708.25,0.00477150882608175,1\n",
    "\"5\",\"2015-02-04 17:55:00\",23.1,27.2,426,704.5,0.00475699293331518,1\n",
    "\"6\",\"2015-02-04 17:55:59\",23.1,27.2,419,701,0.00475699293331518,1\n",
    "\n",
    "```\n",
    "\n",
    "The data is provided in 3 files that suggest the splits that may be used for training and testing a model."
   ]
  },
  {
   "cell_type": "code",
   "execution_count": 1,
   "metadata": {},
   "outputs": [
    {
     "name": "stderr",
     "output_type": "stream",
     "text": [
      "/Users/Amulya/anaconda2/lib/python2.7/site-packages/urllib3/contrib/pyopenssl.py:46: DeprecationWarning: OpenSSL.rand is deprecated - you should use os.urandom instead\n",
      "  import OpenSSL.SSL\n"
     ]
    }
   ],
   "source": [
    "import numpy as np\n",
    "import mxnet as mx\n",
    "import matplotlib.pyplot as plt\n",
    "import sklearn\n",
    "\n",
    "import os\n",
    "\n",
    "#1. Identify what's the feature in the examples  \n",
    "X = [\n",
    "    \"date\",\n",
    "    \"Temperature\",\n",
    "    \"Humidity\",\n",
    "    \"Light\",\n",
    "    \"CO2\",\n",
    "    \"HumidityRatio\"\n",
    "]\n",
    "\n",
    "#2. Target variable is occupancy\n",
    "y = [\n",
    "    \"Occupancy\"\n",
    "]\n",
    "\n"
   ]
  },
  {
   "cell_type": "code",
   "execution_count": 2,
   "metadata": {},
   "outputs": [
    {
     "name": "stdout",
     "output_type": "stream",
     "text": [
      "***** TRAIN DATA *****\n",
      "                  date  Temperature  Humidity  Light     CO2  HumidityRatio  \\\n",
      "1  2015-02-04 17:51:00        23.18   27.2720  426.0  721.25       0.004793   \n",
      "2  2015-02-04 17:51:59        23.15   27.2675  429.5  714.00       0.004783   \n",
      "3  2015-02-04 17:53:00        23.15   27.2450  426.0  713.50       0.004779   \n",
      "4  2015-02-04 17:54:00        23.15   27.2000  426.0  708.25       0.004772   \n",
      "5  2015-02-04 17:55:00        23.10   27.2000  426.0  704.50       0.004757   \n",
      "\n",
      "   Occupancy  \n",
      "1          1  \n",
      "2          1  \n",
      "3          1  \n",
      "4          1  \n",
      "5          1  \n"
     ]
    }
   ],
   "source": [
    "# Use pandas to load the data\n",
    "import pandas as pd\n",
    "\n",
    "training_file_path = \"occupancy_data/datatraining.txt\"\n",
    "test_file_path = \"occupancy_data/datatest.txt\" \n",
    "test2_file_path = \"occupancy_data/datatest2.txt\" \n",
    "\n",
    "# TRAINING DATA\n",
    "print(\"***** TRAIN DATA *****\")\n",
    "\n",
    "col_names = [\"date\",\"Temperature\",\"Humidity\",\"Light\",\"CO2\",\"HumidityRatio\",\"Occupancy\"]\n",
    "data_features = [\"date\",\"Temperature\",\"Humidity\",\"Light\",\"CO2\",\"HumidityRatio\"]\n",
    "\n",
    "train_data = pd.read_csv(training_file_path, skiprows=[0], names=col_names)\n",
    "print train_data.head()\n",
    "\n",
    "#VALIDATION DATA\n",
    "val_data = pd.read_csv(test_file_path, sep=\",\", skiprows=[0], header=None, names=col_names)\n",
    "\n",
    "#TEST DATA\n",
    "test_data = pd.read_csv(test2_file_path, sep=\",\", skiprows=[0], header=None, names=col_names)"
   ]
  },
  {
   "cell_type": "code",
   "execution_count": 3,
   "metadata": {},
   "outputs": [
    {
     "name": "stdout",
     "output_type": "stream",
     "text": [
      "***** Training DATA *****\n",
      "(8143, 6)\n",
      "(8143,)\n",
      "***** Validation DATA *****\n",
      "(2665, 6)\n",
      "(2665,)\n",
      "***** TEST DATA *****\n",
      "(9752, 6)\n",
      "(9752,)\n"
     ]
    }
   ],
   "source": [
    "print(\"***** Training DATA *****\")\n",
    "X_train_raw = train_data[data_features]\n",
    "print(X_train_raw.shape)\n",
    "\n",
    "y_train = train_data.Occupancy\n",
    "print(y_train.shape)\n",
    "\n",
    "# VAL\n",
    "print(\"***** Validation DATA *****\")\n",
    "\n",
    "X_val_raw = val_data[data_features]\n",
    "print(X_val_raw.shape)\n",
    "\n",
    "y_val = val_data.Occupancy\n",
    "print(y_val.shape)\n",
    "\n",
    "print(\"***** TEST DATA *****\")\n",
    "# Test\n",
    "\n",
    "X_test_raw = test_data[data_features]\n",
    "print(X_test_raw.shape)\n",
    "\n",
    "y_test = test_data.Occupancy\n",
    "print(y_test.shape)"
   ]
  },
  {
   "cell_type": "code",
   "execution_count": 4,
   "metadata": {
    "collapsed": true
   },
   "outputs": [],
   "source": [
    "# drop NaN values - always a good idea to remove NaNs from the dataset\n",
    "#train_data.dropna(axis=0, how='any')\n",
    "#val_data.dropna(axis=0, how='any')\n",
    "#test2_data.dropna(axis=0, how='any')"
   ]
  },
  {
   "cell_type": "code",
   "execution_count": 5,
   "metadata": {},
   "outputs": [
    {
     "name": "stdout",
     "output_type": "stream",
     "text": [
      "Index([u'date', u'Temperature', u'Humidity', u'Light', u'CO2',\n",
      "       u'HumidityRatio', u'Occupancy'],\n",
      "      dtype='object')\n",
      "                  date  Temperature  Humidity  Light     CO2  HumidityRatio  \\\n",
      "1  2015-02-04 17:51:00        23.18   27.2720  426.0  721.25       0.004793   \n",
      "2  2015-02-04 17:51:59        23.15   27.2675  429.5  714.00       0.004783   \n",
      "3  2015-02-04 17:53:00        23.15   27.2450  426.0  713.50       0.004779   \n",
      "4  2015-02-04 17:54:00        23.15   27.2000  426.0  708.25       0.004772   \n",
      "5  2015-02-04 17:55:00        23.10   27.2000  426.0  704.50       0.004757   \n",
      "\n",
      "   Occupancy  \n",
      "1          1  \n",
      "2          1  \n",
      "3          1  \n",
      "4          1  \n",
      "5          1  \n"
     ]
    }
   ],
   "source": [
    "print (train_data.columns)\n",
    "print (train_data.head(5))"
   ]
  },
  {
   "cell_type": "markdown",
   "metadata": {},
   "source": [
    "### Feature Engineering - Lets add new features"
   ]
  },
  {
   "cell_type": "markdown",
   "metadata": {},
   "source": [
    "Convert to one-hot encoding\n",
    "- The house is likely to be occupied more on the weekends than weekdays, lets use that as an explicit new feature\n",
    "- People are likely to be in their house in the evening and night, lets create time buckets"
   ]
  },
  {
   "cell_type": "code",
   "execution_count": 6,
   "metadata": {
    "collapsed": true
   },
   "outputs": [],
   "source": [
    "#### Function to create new features\n",
    "from datetime import datetime\n",
    "\n",
    "\n",
    "def create_new_features(data):\n",
    "    time_buckets = []\n",
    "    weekday = []\n",
    "\n",
    "    for index, row in data.iterrows():\n",
    "        parsed_date = datetime.strptime(row['date'], \"%Y-%m-%d %H:%M:%S\")\n",
    "        time_bucket = parsed_date.hour % 4 # lets divide in to [day 6-12, afternoon 12-6, evening 6-12, night 12-6]\n",
    "        time_buckets.append(time_bucket)\n",
    "        wday = 0 if parsed_date.isoweekday() > 5 else 1\n",
    "        weekday.append(wday)\n",
    "    return time_buckets, weekday\n",
    "    \n",
    "train_time_buckets, train_weekday = create_new_features(train_data)\n",
    "val_time_buckets, val_weekday = create_new_features(val_data)\n",
    "test_time_buckets, test_weekday = create_new_features(test_data)"
   ]
  },
  {
   "cell_type": "code",
   "execution_count": 7,
   "metadata": {
    "collapsed": true
   },
   "outputs": [],
   "source": [
    "#Validation dataset did not have any values with occupancy 0. So we are adding one here\n",
    "val_weekday[-1]=0 #dummy"
   ]
  },
  {
   "cell_type": "markdown",
   "metadata": {
    "collapsed": true
   },
   "source": [
    "#### One hot encoding of the Weekday and Time buckets"
   ]
  },
  {
   "cell_type": "code",
   "execution_count": 9,
   "metadata": {},
   "outputs": [
    {
     "name": "stdout",
     "output_type": "stream",
     "text": [
      "(array([[ 0.,  1.,  0.,  0.],\n",
      "       [ 0.,  1.,  0.,  0.],\n",
      "       [ 0.,  1.,  0.,  0.],\n",
      "       ..., \n",
      "       [ 0.,  1.,  0.,  0.],\n",
      "       [ 0.,  1.,  0.,  0.],\n",
      "       [ 0.,  1.,  0.,  0.]]), array([0, 1, 2, 3]))\n",
      "(array([[ 0.,  1.],\n",
      "       [ 0.,  1.],\n",
      "       [ 0.,  1.],\n",
      "       ..., \n",
      "       [ 0.,  1.],\n",
      "       [ 0.,  1.],\n",
      "       [ 0.,  1.]]), array([0, 1]))\n",
      "(array([[ 0.,  0.,  1.,  0.],\n",
      "       [ 0.,  0.,  1.,  0.],\n",
      "       [ 0.,  0.,  1.,  0.],\n",
      "       ..., \n",
      "       [ 0.,  0.,  1.,  0.],\n",
      "       [ 0.,  0.,  1.,  0.],\n",
      "       [ 0.,  0.,  1.,  0.]]), array([0, 1, 2, 3]))\n",
      "(array([[ 0.,  1.],\n",
      "       [ 0.,  1.],\n",
      "       [ 0.,  1.],\n",
      "       ..., \n",
      "       [ 0.,  1.],\n",
      "       [ 0.,  1.],\n",
      "       [ 1.,  0.]]), array([0, 1]))\n",
      "(array([[ 0.,  0.,  1.,  0.],\n",
      "       [ 0.,  0.,  1.,  0.],\n",
      "       [ 0.,  0.,  1.,  0.],\n",
      "       ..., \n",
      "       [ 0.,  1.,  0.,  0.],\n",
      "       [ 0.,  1.,  0.,  0.],\n",
      "       [ 0.,  1.,  0.,  0.]]), array([0, 1, 2, 3]))\n",
      "(array([[ 0.,  1.],\n",
      "       [ 0.,  1.],\n",
      "       [ 0.,  1.],\n",
      "       ..., \n",
      "       [ 0.,  1.],\n",
      "       [ 0.,  1.],\n",
      "       [ 0.,  1.]]), array([0, 1]))\n"
     ]
    }
   ],
   "source": [
    "from sklearn.preprocessing import LabelEncoder\n",
    "from sklearn.preprocessing import OneHotEncoder\n",
    "\n",
    "def onehot_encode(values):\n",
    "    new_values = np.array(values)\n",
    "    label_encoder = LabelEncoder()\n",
    "    integer_encoded = label_encoder.fit_transform(new_values)\n",
    "    onehot_encoder = OneHotEncoder(sparse=False)\n",
    "    integer_encoded = integer_encoded.reshape(len(integer_encoded), 1)\n",
    "    onehot_encoded = onehot_encoder.fit_transform(integer_encoded)\n",
    "    return (onehot_encoded, label_encoder.classes_)\n",
    "\n",
    "## TRAINING DATA\n",
    "train_time_bucket_onehot_encoded, train_time_class = onehot_encode(train_time_buckets)\n",
    "train_weekday_onehot_encoded, train_weekday_class = onehot_encode(train_weekday)\n",
    "print (train_time_bucket_onehot_encoded, train_time_class)\n",
    "print (train_weekday_onehot_encoded, train_weekday_class)\n",
    "\n",
    "\n",
    "## VALIDATION DATA\n",
    "val_time_bucket_onehot_encoded, val_time_class = onehot_encode(val_time_buckets)\n",
    "val_weekday_onehot_encoded, val_weekday_class = onehot_encode(val_weekday)\n",
    "print (val_time_bucket_onehot_encoded, val_time_class)\n",
    "print (val_weekday_onehot_encoded, val_weekday_class)\n",
    "\n",
    "## TEST DATA\n",
    "\n",
    "test_time_bucket_onehot_encoded, test_time_class = onehot_encode(test_time_buckets)\n",
    "test_weekday_onehot_encoded, test_weekday_class = onehot_encode(test_weekday)\n",
    "print (test_time_bucket_onehot_encoded, test_time_class)\n",
    "print (test_weekday_onehot_encoded, test_weekday_class)\n"
   ]
  },
  {
   "cell_type": "code",
   "execution_count": 10,
   "metadata": {},
   "outputs": [
    {
     "data": {
      "text/plain": [
       "(8143, 11)"
      ]
     },
     "execution_count": 10,
     "metadata": {},
     "output_type": "execute_result"
    }
   ],
   "source": [
    "# Append new features to Train, Validation and Test sets\n",
    "\n",
    "def add_new_features(arr, w_oh, t_oh):\n",
    "    # lets ignore the date column for all the rows\n",
    "    X = arr.values[:, 1:] \n",
    "    XW = np.hstack((X, w_oh))\n",
    "    XTW = np.hstack((XW, t_oh))\n",
    "    return XTW\n",
    "\n",
    "X_train = add_new_features(X_train_raw, train_weekday_onehot_encoded, train_time_bucket_onehot_encoded)\n",
    "X_train.shape\n"
   ]
  },
  {
   "cell_type": "code",
   "execution_count": 11,
   "metadata": {},
   "outputs": [
    {
     "data": {
      "text/plain": [
       "(2665, 11)"
      ]
     },
     "execution_count": 11,
     "metadata": {},
     "output_type": "execute_result"
    }
   ],
   "source": [
    "# Prepare validation data\n",
    "\n",
    "X_val = add_new_features(X_val_raw, val_weekday_onehot_encoded, val_time_bucket_onehot_encoded)\n",
    "X_val.shape"
   ]
  },
  {
   "cell_type": "code",
   "execution_count": 12,
   "metadata": {},
   "outputs": [
    {
     "data": {
      "text/plain": [
       "(9752, 11)"
      ]
     },
     "execution_count": 12,
     "metadata": {},
     "output_type": "execute_result"
    }
   ],
   "source": [
    "X_test = add_new_features(X_test_raw, test_weekday_onehot_encoded, test_time_bucket_onehot_encoded)\n",
    "X_test.shape"
   ]
  },
  {
   "cell_type": "code",
   "execution_count": 13,
   "metadata": {},
   "outputs": [
    {
     "data": {
      "text/plain": [
       "((9752,), 2049, 0.78988925348646433)"
      ]
     },
     "execution_count": 13,
     "metadata": {},
     "output_type": "execute_result"
    }
   ],
   "source": [
    "# find the number of positive occupancy\n",
    "y_test.shape, sum(y_test), 1-sum(y_test)/(y_test.shape[0]*1.0)"
   ]
  },
  {
   "cell_type": "code",
   "execution_count": 42,
   "metadata": {
    "collapsed": true
   },
   "outputs": [],
   "source": [
    "# BASERNN Class \n",
    "# This code is copied from https://github.com/sunilmallya/timeseries/blob/master/sagemaker-timeseries/generic_ts.py\n",
    "\n",
    "import mxnet as mx\n",
    "import numpy as np\n",
    "import math\n",
    "from mxnet import nd, autograd\n",
    "\n",
    "def detach(hidden):\n",
    "    if isinstance(hidden, (tuple, list)):\n",
    "        hidden = [i.detach() for i in hidden]\n",
    "    else:\n",
    "        hidden = hidden.detach()\n",
    "    return hidden\n",
    "\n",
    "class BaseRNNClassifier(mx.gluon.Block):\n",
    "    '''\n",
    "    Extensible RNN class with LSTM that can operate with MXNet NDArray iter or DataLoader.\n",
    "    Includes fit() function to mimic the symbolic fit() function\n",
    "    '''\n",
    "    \n",
    "    @classmethod\n",
    "    def get_data(cls, batch, iter_type, ctx):\n",
    "        ''' get data and label from the iterator/dataloader '''\n",
    "        if iter_type == 'mxiter':\n",
    "            X = batch.data[0].as_in_context(ctx)\n",
    "            y = batch.label[0].as_in_context(ctx)\n",
    "        elif iter_type in [\"numpy\", \"dataloader\"]:\n",
    "            X = batch[0].as_in_context(ctx)\n",
    "            y = batch[1].as_in_context(ctx)\n",
    "        else:\n",
    "            raise ValueError(\"iter_type must be mxiter or numpy\")\n",
    "        return X, y\n",
    "    \n",
    "    @classmethod\n",
    "    def get_all_labels(cls, data_iterator, iter_type):\n",
    "        if iter_type == 'mxiter':\n",
    "            pass\n",
    "        elif iter_type in [\"numpy\", \"dataloader\"]:\n",
    "            return data_iterator._dataset._label\n",
    "    \n",
    "    def __init__(self, ctx):\n",
    "        super(BaseRNNClassifier, self).__init__()\n",
    "        self.ctx = ctx\n",
    "\n",
    "    def build_model(self, n_out, rnn_size=128, n_layer=1):\n",
    "        self.rnn_size = rnn_size\n",
    "        self.n_layer = n_layer\n",
    "        self.n_out = n_out\n",
    "        \n",
    "        # LSTM default; #TODO(Sunil): make this generic\n",
    "        self.lstm = mx.gluon.rnn.LSTM(self.rnn_size, self.n_layer, layout='NTC')\n",
    "        #self.lstm = mx.gluon.rnn.GRU(self.rnn_size, self.n_layer)\n",
    "        self.output = mx.gluon.nn.Dense(self.n_out)\n",
    "\n",
    "    def forward(self, x, hidden):\n",
    "        out, hidden = self.lstm(x, hidden)\n",
    "        out = out[:, out.shape[1]-1, :]\n",
    "        out = self.output(out)\n",
    "        return out, hidden\n",
    "\n",
    "    def compile_model(self, loss=None, lr=3E-3):\n",
    "        self.collect_params().initialize(mx.init.Xavier(), ctx=self.ctx)\n",
    "        self.criterion = mx.gluon.loss.SoftmaxCrossEntropyLoss()\n",
    "        self.loss = mx.gluon.loss.SoftmaxCrossEntropyLoss() if loss is None else loss\n",
    "        self.lr = lr\n",
    "        self.optimizer = mx.gluon.Trainer(self.collect_params(), 'adam', \n",
    "                                          {'learning_rate': self.lr})\n",
    "\n",
    "    def top_k_acc(self, data_iterator, iter_type='mxiter', top_k=3, batch_size=128):\n",
    "        batch_pred_list = []\n",
    "        true_labels = []\n",
    "        init_state = mx.nd.zeros((self.n_layer, batch_size, self.rnn_size), self.ctx)\n",
    "        hidden = [init_state] * 2\n",
    "        for i, batch in enumerate(data_iterator):\n",
    "            data, label = BaseRNNClassifier.get_data(batch, iter_type, self.ctx)\n",
    "            batch_pred = self.forward(data, hidden)\n",
    "            #batch_pred = mx.nd.argmax(batch_pred, axis=1)\n",
    "            batch_pred_list.append(batch_pred.asnumpy())\n",
    "            true_labels.append(label)\n",
    "        y = np.vstack(batch_pred_list)\n",
    "        true_labels = np.vstack(true_labels)\n",
    "        argsorted_y = np.argsort(y)[:,-top_k:]\n",
    "        return np.asarray(np.any(argsorted_y.T == true_labels, axis=0).mean(dtype='f'))\n",
    "    \n",
    "    def evaluate_accuracy(self, data_iterator, metric='acc', iter_type='mxiter', batch_size=128):\n",
    "        met = mx.metric.Accuracy()\n",
    "        init_state = mx.nd.zeros((self.n_layer, batch_size, self.rnn_size), self.ctx)\n",
    "        hidden = [init_state] * 2\n",
    "        for i, batch in enumerate(data_iterator):\n",
    "            data, label = BaseRNNClassifier.get_data(batch, iter_type, self.ctx)\n",
    "            # Lets do a forward pass only!\n",
    "            output, hidden = self.forward(data, hidden)\n",
    "            preds = mx.nd.argmax(output, axis=1)\n",
    "            met.update(labels=label, preds=preds)\n",
    "                \n",
    "        #if self.all_labels is None:\n",
    "        #    self.all_labels = BaseRNNClassifier.get_all_labels(data_iterator, iter_type)\n",
    "        #preds = self.predict(data_iterator, iter_type=iter_type, batch_size=batch_size)\n",
    "        #met.update(labels=mx.nd.array(self.all_labels[:len(preds)]), preds=preds)\n",
    "        \n",
    "        return met.get()                   \n",
    "                    \n",
    "    def predict(self, data_iterator, iter_type='mxiter', batch_size=128):\n",
    "        batch_pred_list = []\n",
    "        init_state = mx.nd.zeros((self.n_layer, batch_size, self.rnn_size), self.ctx)\n",
    "        hidden = [init_state] * 2\n",
    "        for i, batch in enumerate(data_iterator):\n",
    "            data, label = BaseRNNClassifier.get_data(batch, iter_type, self.ctx)\n",
    "            output, hidden = self.forward(data, hidden)\n",
    "            batch_pred_list.append(output.asnumpy())\n",
    "        #return np.vstack(batch_pred_list)\n",
    "        return np.argmax(np.vstack(batch_pred_list), 1)\n",
    "    \n",
    "    def fit(self, train_data, test_data, epochs, batch_size, verbose=True):\n",
    "        '''\n",
    "        @train_data:  can be of type list of Numpy array, DataLoader, MXNet NDArray Iter\n",
    "        '''\n",
    "        \n",
    "        moving_loss = 0.\n",
    "        total_batches = 0\n",
    "\n",
    "        train_loss = []\n",
    "        train_acc = []\n",
    "        test_acc = []\n",
    "\n",
    "        iter_type = 'numpy'\n",
    "        train_iter = None\n",
    "        test_iter = None\n",
    "        print \"Data type:\", type(train_data), type(test_data), iter_type, type(train_data[0])\n",
    "        \n",
    "        # Can take MX NDArrayIter, or DataLoader\n",
    "        if isinstance(train_data, mx.io.NDArrayIter):\n",
    "            train_iter = train_data\n",
    "            test_iter = test_data\n",
    "            iter_type = 'mxiter'\n",
    "            #total_batches = train_iter.num_data // train_iter.batch_size\n",
    "\n",
    "        elif isinstance(train_data, list):\n",
    "            if True: #dummy\n",
    "            #if isinstance(train_data[0], np.ndarray) and isinstance(train_data[1], np.ndarray):\n",
    "                X, y = np.asarray(train_data[0]).astype('float32'), np.asarray(train_data[1]).astype('float32')\n",
    "                tX, ty = np.asarray(test_data[0]).astype('float32'), np.asarray(test_data[1]).astype('float32')\n",
    "                \n",
    "                total_batches = X.shape[0] // batch_size\n",
    "                train_iter = mx.gluon.data.DataLoader(mx.gluon.data.ArrayDataset(X, y), \n",
    "                                    batch_size=batch_size, shuffle=True, last_batch='discard')\n",
    "                test_iter = mx.gluon.data.DataLoader(mx.gluon.data.ArrayDataset(tX, ty), \n",
    "                                    batch_size=batch_size, shuffle=False, last_batch='discard')\n",
    "                \n",
    "        elif isinstance(train_data, mx.gluon.data.dataloader.DataLoader) and isinstance(test_data, mx.gluon.data.dataloader.DataLoader):\n",
    "            train_iter = train_data\n",
    "            test_iter = test_data\n",
    "            total_batches = len(train_iter)\n",
    "        else:\n",
    "            raise ValueError(\"pass mxnet ndarray or numpy array as [data, label]\")\n",
    "\n",
    "        print \"Data type:\", type(train_data), type(test_data), iter_type\n",
    "        print \"Sizes\", self.n_layer, batch_size, self.rnn_size, self.ctx\n",
    "        \n",
    "        for e in range(epochs):\n",
    "            #print self.lstm.collect_params()\n",
    "\n",
    "            # reset iterators if of MXNet Itertype\n",
    "            if iter_type == \"mxiter\":\n",
    "                train_iter.reset()\n",
    "                test_iter.reset()\n",
    "        \n",
    "            init_state = mx.nd.zeros((self.n_layer, batch_size, self.rnn_size), self.ctx)\n",
    "            hidden = [init_state] * 2                \n",
    "            #hidden = self.begin_state(func=mx.nd.zeros, batch_size=batch_size, ctx=self.ctx)\n",
    "            yhat = []\n",
    "            for i, batch in enumerate(train_iter):\n",
    "                data, label = BaseRNNClassifier.get_data(batch, iter_type, self.ctx)\n",
    "                #print \"Data Shapes:\", data.shape, label.shape\n",
    "                hidden = detach(hidden)\n",
    "                with mx.autograd.record(train_mode=True):\n",
    "                    preds, hidden = self.forward(data, hidden)\n",
    "                    #print preds[0].shape, hidden[0].shape, label.shape\n",
    "                    loss = self.loss(preds, label) \n",
    "                    yhat.extend(preds)\n",
    "                loss.backward()                                        \n",
    "                self.optimizer.step(batch_size)\n",
    "                preds = mx.nd.argmax(preds, axis=1)\n",
    "                \n",
    "                batch_acc = mx.nd.mean(preds == label).asscalar()\n",
    "\n",
    "                if i == 0:\n",
    "                    moving_loss = nd.mean(loss).asscalar()\n",
    "                else:\n",
    "                    moving_loss = .99 * moving_loss + .01 * mx.nd.mean(loss).asscalar()\n",
    "                    \n",
    "                if verbose and i%100 == 0:\n",
    "                    print('[Epoch {}] [Batch {}/{}] Loss: {:.5f}, Batch acc: {:.5f}'.format(\n",
    "                          e, i, total_batches, moving_loss, batch_acc))                    \n",
    "                    \n",
    "            train_loss.append(moving_loss)\n",
    "            \n",
    "            t_acc = self.evaluate_accuracy(train_iter, iter_type=iter_type, batch_size=batch_size)\n",
    "            train_acc.append(t_acc[1])\n",
    "            \n",
    "            tst_acc = self.evaluate_accuracy(test_iter, iter_type=iter_type, batch_size=batch_size)\n",
    "            test_acc.append(tst_acc[1])\n",
    "\n",
    "            print(\"Epoch %s. Loss: %.5f Train Acc: %s Test Acc: %s\" % (e, moving_loss, t_acc, tst_acc))\n",
    "        return train_loss, train_acc, test_acc\n",
    "                    \n",
    "    def predict(self, data_iterator, iter_type='mxiter', batch_size=128):\n",
    "        batch_pred_list = []\n",
    "        init_state = mx.nd.zeros((self.n_layer, batch_size, self.rnn_size), self.ctx)\n",
    "        hidden = [init_state] * 2\n",
    "        for i, batch in enumerate(data_iterator):\n",
    "            data, label = BaseRNNClassifier.get_data(batch, iter_type, self.ctx)\n",
    "            output, hidden = self.forward(data, hidden)\n",
    "            batch_pred_list.append(output.asnumpy())\n",
    "        return np.argmax(np.vstack(batch_pred_list), 1)"
   ]
  },
  {
   "cell_type": "code",
   "execution_count": 43,
   "metadata": {},
   "outputs": [
    {
     "data": {
      "text/plain": [
       "((8143, 11), (8143,), (2665, 11), (2665,))"
      ]
     },
     "execution_count": 43,
     "metadata": {},
     "output_type": "execute_result"
    }
   ],
   "source": [
    "X_train.shape, y_train.shape, X_val.shape, y_val.shape"
   ]
  },
  {
   "cell_type": "code",
   "execution_count": 44,
   "metadata": {},
   "outputs": [
    {
     "name": "stdout",
     "output_type": "stream",
     "text": [
      "(8143, 1, 11)\n",
      "(2665, 1, 11)\n",
      "(9752, 1, 11)\n"
     ]
    }
   ],
   "source": [
    "# Expand dimensions\n",
    "\n",
    "# RNNs take inputs as (batch_size, time step or step_size or sequence_length, features)\n",
    "X_train = np.expand_dims(X_train, axis=1)\n",
    "print X_train.shape\n",
    "\n",
    "X_val = np.expand_dims(X_val, axis=1)\n",
    "print X_val.shape\n",
    "\n",
    "X_test = np.expand_dims(X_test, axis=1)\n",
    "print X_test.shape"
   ]
  },
  {
   "cell_type": "code",
   "execution_count": 60,
   "metadata": {},
   "outputs": [
    {
     "name": "stdout",
     "output_type": "stream",
     "text": [
      "Data type: <type 'list'> <type 'list'> numpy <type 'numpy.ndarray'>\n",
      "Data type: <type 'list'> <type 'list'> numpy\n",
      "Sizes 1 32 8 cpu(0)\n",
      "[Epoch 0] [Batch 0/254] Loss: 0.63319, Batch acc: 0.78125\n",
      "[Epoch 0] [Batch 100/254] Loss: 0.51897, Batch acc: 0.71875\n",
      "[Epoch 0] [Batch 200/254] Loss: 0.43227, Batch acc: 0.84375\n",
      "Epoch 0. Loss: 0.39591 Train Acc: ('accuracy', 0.7947834645669292) Test Acc: ('accuracy', 0.8123972039473685)\n",
      "[Epoch 1] [Batch 0/254] Loss: 0.35631, Batch acc: 0.90625\n",
      "[Epoch 1] [Batch 100/254] Loss: 0.33867, Batch acc: 0.81250\n",
      "[Epoch 1] [Batch 200/254] Loss: 0.30496, Batch acc: 1.00000\n",
      "Epoch 1. Loss: 0.28885 Train Acc: ('accuracy', 0.9400836614173228) Test Acc: ('accuracy', 0.9272203947368421)\n",
      "[Epoch 2] [Batch 0/254] Loss: 0.15314, Batch acc: 1.00000\n",
      "[Epoch 2] [Batch 100/254] Loss: 0.21336, Batch acc: 0.87500\n",
      "[Epoch 2] [Batch 200/254] Loss: 0.22482, Batch acc: 0.93750\n",
      "Epoch 2. Loss: 0.22412 Train Acc: ('accuracy', 0.9542322834645669) Test Acc: ('accuracy', 0.9435649671052632)\n",
      "[Epoch 3] [Batch 0/254] Loss: 0.30454, Batch acc: 0.90625\n",
      "[Epoch 3] [Batch 100/254] Loss: 0.24046, Batch acc: 0.93750\n",
      "[Epoch 3] [Batch 200/254] Loss: 0.20337, Batch acc: 0.90625\n",
      "Epoch 3. Loss: 0.18263 Train Acc: ('accuracy', 0.984867125984252) Test Acc: ('accuracy', 0.9712171052631579)\n",
      "[Epoch 4] [Batch 0/254] Loss: 0.18502, Batch acc: 0.96875\n",
      "[Epoch 4] [Batch 100/254] Loss: 0.15585, Batch acc: 0.96875\n",
      "[Epoch 4] [Batch 200/254] Loss: 0.13556, Batch acc: 1.00000\n",
      "Epoch 4. Loss: 0.12641 Train Acc: ('accuracy', 0.9886811023622047) Test Acc: ('accuracy', 0.9809827302631579)\n",
      "[Epoch 5] [Batch 0/254] Loss: 0.08496, Batch acc: 1.00000\n",
      "[Epoch 5] [Batch 100/254] Loss: 0.09987, Batch acc: 1.00000\n",
      "[Epoch 5] [Batch 200/254] Loss: 0.09969, Batch acc: 1.00000\n",
      "Epoch 5. Loss: 0.09696 Train Acc: ('accuracy', 0.9889271653543307) Test Acc: ('accuracy', 0.9808799342105263)\n",
      "[Epoch 6] [Batch 0/254] Loss: 0.16421, Batch acc: 0.96875\n",
      "[Epoch 6] [Batch 100/254] Loss: 0.11811, Batch acc: 0.96875\n",
      "[Epoch 6] [Batch 200/254] Loss: 0.09747, Batch acc: 1.00000\n",
      "Epoch 6. Loss: 0.09138 Train Acc: ('accuracy', 0.9888041338582677) Test Acc: ('accuracy', 0.9819078947368421)\n",
      "[Epoch 7] [Batch 0/254] Loss: 0.05011, Batch acc: 1.00000\n",
      "[Epoch 7] [Batch 100/254] Loss: 0.07186, Batch acc: 1.00000\n",
      "[Epoch 7] [Batch 200/254] Loss: 0.07203, Batch acc: 1.00000\n",
      "Epoch 7. Loss: 0.07041 Train Acc: ('accuracy', 0.9889271653543307) Test Acc: ('accuracy', 0.9815995065789473)\n",
      "[Epoch 8] [Batch 0/254] Loss: 0.03882, Batch acc: 1.00000\n",
      "[Epoch 8] [Batch 100/254] Loss: 0.05974, Batch acc: 0.96875\n",
      "[Epoch 8] [Batch 200/254] Loss: 0.06646, Batch acc: 0.93750\n",
      "Epoch 8. Loss: 0.06484 Train Acc: ('accuracy', 0.9890501968503937) Test Acc: ('accuracy', 0.9802631578947368)\n",
      "[Epoch 9] [Batch 0/254] Loss: 0.05653, Batch acc: 0.96875\n",
      "[Epoch 9] [Batch 100/254] Loss: 0.06225, Batch acc: 1.00000\n",
      "[Epoch 9] [Batch 200/254] Loss: 0.06385, Batch acc: 1.00000\n",
      "Epoch 9. Loss: 0.06513 Train Acc: ('accuracy', 0.9889271653543307) Test Acc: ('accuracy', 0.9717310855263158)\n"
     ]
    }
   ],
   "source": [
    "N_CLASS = 2\n",
    "\n",
    "ctx = mx.cpu(0) #change context to execute on CPU\n",
    "model = BaseRNNClassifier(ctx)\n",
    "model.build_model(n_out=N_CLASS, rnn_size=8, n_layer=1)\n",
    "model.compile_model()\n",
    "#train_loss, train_acc, test_acc = model.fit([X_train[1:], y_train[1:]], [X_test, y_test], batch_size=32, epochs=25)\n",
    "\n",
    "#train_loss, train_acc, test_acc = model.fit([X_train, y_train], [X_val, y_val], batch_size=32, epochs=4)\n",
    "train_loss, train_acc, test_acc = model.fit([X_train, y_train], [X_test, y_test], batch_size=32, epochs=10)"
   ]
  },
  {
   "cell_type": "code",
   "execution_count": 74,
   "metadata": {},
   "outputs": [],
   "source": [
    "b_size = 24\n",
    "tX, ty = np.asarray(X_test).astype('float32'), np.asarray(y_test).astype('float32')\n",
    "test_iter = mx.gluon.data.DataLoader(mx.gluon.data.ArrayDataset(tX, ty), \n",
    "                                    batch_size=b_size, shuffle=False, last_batch='discard')\n",
    "pred_out = model.predict(test_iter, iter_type=\"dataloader\", batch_size=b_size)"
   ]
  },
  {
   "cell_type": "code",
   "execution_count": 75,
   "metadata": {},
   "outputs": [
    {
     "name": "stdout",
     "output_type": "stream",
     "text": [
      "[[7558  145]\n",
      " [ 131 1910]]\n"
     ]
    }
   ],
   "source": [
    "# Confusion Matrix\n",
    "from sklearn.metrics import confusion_matrix\n",
    "print confusion_matrix(y_test[:len(pred_out)], pred_out)"
   ]
  },
  {
   "cell_type": "code",
   "execution_count": 61,
   "metadata": {},
   "outputs": [
    {
     "data": {
      "image/png": "[encoded data removed]",
      "text/plain": [
       "<matplotlib.figure.Figure at 0x10d106ed0>"
      ]
     },
     "metadata": {},
     "output_type": "display_data"
    }
   ],
   "source": [
    "import matplotlib.pyplot as plt\n",
    "\n",
    "plt.title(\"Accuracy with every epoch\")\n",
    "plt.plot(train_acc, label=\"train\")\n",
    "plt.plot(test_acc, label =\"test\")\n",
    "plt.legend()\n",
    "plt.show()"
   ]
  },
  {
   "cell_type": "code",
   "execution_count": 76,
   "metadata": {},
   "outputs": [
    {
     "data": {
      "image/png": "[encoded data removed]",
      "text/plain": [
       "<matplotlib.figure.Figure at 0x10d7fe350>"
      ]
     },
     "metadata": {},
     "output_type": "display_data"
    }
   ],
   "source": [
    "plt.title(\"Loss function\")\n",
    "plt.plot(train_loss, label=\"loss\")\n",
    "plt.legend()\n",
    "plt.show()"
   ]
  },
  {
   "cell_type": "markdown",
   "metadata": {},
   "source": [
    "## Softmax classifier as a baseline"
   ]
  },
  {
   "cell_type": "code",
   "execution_count": 25,
   "metadata": {},
   "outputs": [
    {
     "name": "stdout",
     "output_type": "stream",
     "text": [
      " (9752, 11)\n",
      "Train Acc: 0.811761811024 Test Acc: 0.860711348684\n",
      "Train Acc: 0.805241141732 Test Acc: 0.858963815789\n",
      "Train Acc: 0.919045275591 Test Acc: 0.928556743421\n",
      "Train Acc: 0.926796259843 Test Acc: 0.937602796053\n",
      "Train Acc: 0.918553149606 Test Acc: 0.927425986842\n",
      "Train Acc: 0.918184055118 Test Acc: 0.926295230263\n",
      "Train Acc: 0.909079724409 Test Acc: 0.906352796053\n",
      "Train Acc: 0.919168307087 Test Acc: 0.928556743421\n",
      "Train Acc: 0.923720472441 Test Acc: 0.93359375\n",
      "Train Acc: 0.918184055118 Test Acc: 0.925164473684\n",
      "Train Acc: 0.912893700787 Test Acc: 0.912828947368\n",
      "Train Acc: 0.918184055118 Test Acc: 0.925472861842\n",
      "Train Acc: 0.908956692913 Test Acc: 0.905736019737\n",
      "Train Acc: 0.915600393701 Test Acc: 0.919407894737\n",
      "Train Acc: 0.905757874016 Test Acc: 0.902240953947\n",
      "Train Acc: 0.920644685039 Test Acc: 0.948087993421\n",
      "Train Acc: 0.849163385827 Test Acc: 0.895970394737\n",
      "Train Acc: 0.916584645669 Test Acc: 0.949527138158\n",
      "Train Acc: 0.918184055118 Test Acc: 0.924856085526\n",
      "Train Acc: 0.89751476378 Test Acc: 0.944695723684\n"
     ]
    }
   ],
   "source": [
    "\n",
    "print X_test.shape\n",
    "\n",
    "import mxnet as mx\n",
    "import numpy as np\n",
    "import math\n",
    "from mxnet import nd, autograd\n",
    "\n",
    "N_CLASS = 2\n",
    "ctx = mx.cpu()\n",
    "net = mx.gluon.nn.Dense(N_CLASS)\n",
    "\n",
    "#INIT\n",
    "net.collect_params().initialize(mx.init.Normal(sigma=1.), ctx=ctx)\n",
    "softmax_cross_entropy_loss = mx.gluon.loss.SoftmaxCrossEntropyLoss()\n",
    "\n",
    "trainer = mx.gluon.Trainer(net.collect_params(), 'sgd', {'learning_rate': 0.1})\n",
    "\n",
    "## accuracy function\n",
    "def evaluate_accuracy(t_data, t_label, net, ctx=mx.cpu()):\n",
    "    num_correct = 0.0\n",
    "    num_total = len(t_data)\n",
    "    batch_size = 32\n",
    "    n_batches = num_total // batch_size\n",
    "    acc = mx.metric.Accuracy()\n",
    "\n",
    "    for i in range(n_batches):\n",
    "        data = mx.nd.array(t_data[i*batch_size:(i+1)*batch_size])\n",
    "        label = mx.nd.array(t_label[i*batch_size:(i+1)*batch_size])\n",
    "        data = data.as_in_context(ctx)\n",
    "        label = label.as_in_context(ctx)\n",
    "        output = net(data)\n",
    "        predictions = nd.argmax(output, axis=1)\n",
    "        acc.update(preds=predictions, labels=label)\n",
    "    return acc.get()[1]\n",
    "###\n",
    "    \n",
    "\n",
    "epochs = 20\n",
    "moving_loss = 0.\n",
    "\n",
    "batch_size = 32\n",
    "n_batches = len(X_train)//batch_size\n",
    "loss_sequence = []\n",
    "\n",
    "for e in range(epochs):\n",
    "    cumulative_loss = 0\n",
    "    for i in range(n_batches):\n",
    "        data = mx.nd.array(X_train[i*batch_size:(i+1)*batch_size])\n",
    "        label = mx.nd.array(y_train[i*batch_size:(i+1)*batch_size])\n",
    "        data = data.as_in_context(ctx)\n",
    "        label = label.as_in_context(ctx)\n",
    "        \n",
    "        # Step1. Lets do the forward pass\n",
    "        with mx.autograd.record():\n",
    "            output = net(data)\n",
    "            \n",
    "            # Step2. Compute the Loss\n",
    "            loss = softmax_cross_entropy_loss(output, label)\n",
    "            \n",
    "        # Step3. Do the backward pass, update the weights    \n",
    "        loss.backward()\n",
    "        trainer.step(batch_size)\n",
    "        cumulative_loss += nd.sum(loss).asscalar()\n",
    "    \n",
    "    loss_sequence.append(cumulative_loss)\n",
    "    #print e, cumulative_loss\n",
    "    \n",
    "    # Step4. Compute the test accuracy\n",
    "    test_accuracy = evaluate_accuracy(X_test, y_test, net)\n",
    "    train_accuracy = evaluate_accuracy(X_train, y_train, net)\n",
    "        \n",
    "    print \"Train Acc:\", train_accuracy, \"Test Acc:\", test_accuracy"
   ]
  },
  {
   "cell_type": "markdown",
   "metadata": {},
   "source": [
    "best accuracy seems to be 94.4%, the RNN achieves a much better accuracy at 98%"
   ]
  },
  {
   "cell_type": "code",
   "execution_count": null,
   "metadata": {
    "collapsed": true
   },
   "outputs": [],
   "source": []
  }
 ],
 "metadata": {
  "kernelspec": {
   "display_name": "Python 2",
   "language": "python",
   "name": "python2"
  },
  "language_info": {
   "codemirror_mode": {
    "name": "ipython",
    "version": 2
   },
   "file_extension": ".py",
   "mimetype": "text/x-python",
   "name": "python",
   "nbconvert_exporter": "python",
   "pygments_lexer": "ipython2",
   "version": "2.7.14"
  }
 },
 "nbformat": 4,
 "nbformat_minor": 2
}
